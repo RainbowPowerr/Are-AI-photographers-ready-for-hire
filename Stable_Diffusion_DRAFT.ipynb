{
  "cells": [
    {
      "cell_type": "markdown",
      "metadata": {
        "id": "view-in-github",
        "colab_type": "text"
      },
      "source": [
        "<a href=\"https://colab.research.google.com/github/RainbowPowerr/ML-thesis/blob/main/Stable_Diffusion_DRAFT.ipynb\" target=\"_parent\"><img src=\"https://colab.research.google.com/assets/colab-badge.svg\" alt=\"Open In Colab\"/></a>"
      ]
    },
    {
      "cell_type": "markdown",
      "metadata": {
        "id": "gd-vX3cavOCt"
      },
      "source": [
        "# **Stable Diffusion** 🎨 \n",
        "*...using `🧨diffusers`*\n",
        "\n",
        "Stable Diffusion is a text-to-image latent diffusion model created by the researchers and engineers from [CompVis](https://github.com/CompVis), [Stability AI](https://stability.ai/) and [LAION](https://laion.ai/). It's trained on 512x512 images from a subset of the [LAION-5B](https://laion.ai/blog/laion-5b/) database. This model uses a frozen CLIP ViT-L/14 text encoder to condition the model on text prompts. With its 860M UNet and 123M text encoder, the model is relatively lightweight and runs on a GPU with at least 10GB VRAM.\n",
        "See the [model card](https://huggingface.co/CompVis/stable-diffusion) for more information.\n",
        "\n",
        "This Colab notebook shows how to use Stable Diffusion with the 🤗 Hugging Face [🧨 Diffusers library](https://github.com/huggingface/diffusers). \n",
        "\n",
        "Let's get started!"
      ]
    },
    {
      "cell_type": "markdown",
      "metadata": {
        "id": "QYOlvQ1nQL7c"
      },
      "source": [
        "### Setup\n",
        "\n",
        "First, please make sure you are using a GPU runtime to run this notebook, so inference is much faster. If the following command fails, use the `Runtime` menu above and select `Change runtime type`."
      ]
    },
    {
      "cell_type": "markdown",
      "metadata": {
        "id": "paJt_cx5QgVz"
      },
      "source": [
        "\n",
        "Next, you should install `diffusers==0.4.0` as well `scipy`, `ftfy` and `transformers`."
      ]
    },
    {
      "cell_type": "code",
      "execution_count": null,
      "metadata": {
        "id": "aIrgth7sqFML"
      },
      "outputs": [],
      "source": [
        "!nvidia-smi\n",
        "\n",
        "!pip install diffusers==0.4.0\n",
        "!pip install transformers scipy ftfy\n",
        "!pip install \"ipywidgets>=7,<8\"\n",
        "\n",
        "from google.colab import output\n",
        "output.enable_custom_widget_manager()\n",
        "\n",
        "from huggingface_hub import notebook_login\n",
        "\n",
        "notebook_login()"
      ]
    },
    {
      "cell_type": "markdown",
      "metadata": {
        "id": "1Fcyyt0daU4e"
      },
      "source": [
        "You also need to accept the model license before downloading or using the weights. In this post we'll use model version `v1-4`, so you'll need to  visit [its card](https://huggingface.co/CompVis/stable-diffusion-v1-4), read the license and tick the checkbox if you agree. \n",
        "\n",
        "You have to be a registered user in 🤗 Hugging Face Hub, and you'll also need to use an access token for the code to work. For more information on access tokens, please refer to [this section of the documentation](https://huggingface.co/docs/hub/security-tokens)."
      ]
    },
    {
      "cell_type": "code",
      "execution_count": null,
      "metadata": {
        "id": "xSKWBKFPArKS"
      },
      "outputs": [],
      "source": [
        "from diffusers import StableDiffusionPipeline\n",
        "import torch\n",
        "\n",
        "model_id = \"runwayml/stable-diffusion-v1-5\"\n",
        "pipe = StableDiffusionPipeline.from_pretrained(model_id, torch_dtype=torch.float16, revision=\"fp16\")\n",
        "pipe = pipe.to(\"cuda\")\n",
        "\n",
        "from PIL import Image\n",
        "\n",
        "def image_grid(imgs, rows, cols):\n",
        "    assert len(imgs) == rows*cols\n",
        "\n",
        "    w, h = imgs[0].size\n",
        "    grid = Image.new('RGB', size=(cols*w, rows*h))\n",
        "    grid_w, grid_h = grid.size\n",
        "    \n",
        "    for i, img in enumerate(imgs):\n",
        "        grid.paste(img, box=(i%cols*w, i//cols*h))\n",
        "    return grid\n",
        "all_images = []\n",
        "\n",
        "import os\n",
        "\n",
        "def createFolder(directory):\n",
        "    try:\n",
        "        if not os.path.exists(directory):\n",
        "            os.makedirs(directory)\n",
        "    except OSError:\n",
        "        print ('Error: Creating directory. ' +  directory)\n",
        "        \n"
      ]
    },
    {
      "cell_type": "markdown",
      "source": [
        "# Nytt avsnitt"
      ],
      "metadata": {
        "id": "xHaL8rNSH-95"
      }
    },
    {
      "cell_type": "code",
      "source": [
        "import pandas as pd\n",
        "\n",
        "df = pd.read_csv(r'/content/test_data.txt')\n",
        "\n",
        "print(df)"
      ],
      "metadata": {
        "id": "JuXtbUNrB82Y"
      },
      "execution_count": null,
      "outputs": []
    },
    {
      "cell_type": "code",
      "source": [
        "def image_grid(imgs, rows, cols):\n",
        "    assert len(imgs) == rows*cols\n",
        "\n",
        "    w, h = imgs[0].size\n",
        "    grid = Image.new('RGB', size=(cols*w, rows*h))\n",
        "    grid_w, grid_h = grid.size\n",
        "    \n",
        "    for i, img in enumerate(imgs):\n",
        "        grid.paste(img, box=(i%cols*w, i//cols*h))\n",
        "    return grid\n",
        "all_images = []\n",
        "\n",
        "num_cols = 3\n",
        "num_rows = 4\n",
        "\n",
        "prompt = [\"/content/forest.jpg, a forest in Sweden by a lake, autumn, 4k, hd\"] * num_cols\n",
        "generator = torch.Generator(\"cuda\").manual_seed(984799)\n",
        "\n",
        "\n",
        "for i in range(num_rows):\n",
        "  images = pipe(prompt, num_inference_steps=50, guidance_scale = 8, generator=generator).images\n",
        "  all_images.extend(images)\n",
        "\n",
        "grid = image_grid(all_images, rows=num_rows, cols=num_cols)\n",
        "grid\n"
      ],
      "metadata": {
        "id": "TZdk190YweSt"
      },
      "execution_count": null,
      "outputs": []
    },
    {
      "cell_type": "code",
      "source": [
        "generator = torch.Generator(\"cuda\").manual_seed(1234)\n",
        "prompt = \"/content/coinstack.jpg, straight view of a tiny red house next to a stack of golden coins, 4k, hd\"\n",
        "image = pipe(prompt, num_inference_steps=50, guidance_scale = 20, generator=generator, height=400 , width=720 ).images[0]\n",
        "\n",
        "image.save(\"/content/Test_images/Housing_market.png\")"
      ],
      "metadata": {
        "id": "r-FG0eNuQp4n"
      },
      "execution_count": null,
      "outputs": []
    },
    {
      "cell_type": "code",
      "source": [
        "generator = torch.Generator(\"cuda\").manual_seed(1234)\n",
        "prompt = \"/content/forest.jpg, a forest in Sweden by a lake, autumn, sun is shining, 4k, hd\"\n",
        "image = pipe(prompt, num_inference_steps=50, guidance_scale = 20, generator=generator, height=400 , width=720 ).images[0]\n",
        "\n",
        "image.save(\"/content/Test_images/forest.png\")"
      ],
      "metadata": {
        "id": "ksuqjcSyeArJ"
      },
      "execution_count": null,
      "outputs": []
    },
    {
      "cell_type": "code",
      "source": [
        "generator = torch.Generator(\"cuda\").manual_seed(12345)\n",
        "prompt = \"/content/boxes.jpg, cardboard boxes and plants, on a table, in an office, folders, sideview, 4k, hd\"\n",
        "image = pipe(prompt, num_inference_steps=50, guidance_scale = 20, generator=generator, height=400 , width=720 ).images[0]\n",
        "\n",
        "image.save(\"/content/Test_images/bankruptcy.png\")"
      ],
      "metadata": {
        "id": "qmfC-Qz0ecy0"
      },
      "execution_count": null,
      "outputs": []
    },
    {
      "cell_type": "code",
      "source": [
        "# Loop för att spara flera bilder i mappen Test_images\n",
        "\n",
        "createFolder('./Test_images/')\n",
        "\n",
        "num_images = 10\n",
        "\n",
        "generator = torch.Generator(\"cuda\").manual_seed(1234)\n",
        "\n",
        "def extra(xtra_prompt): \n",
        "  if xtra_prompt == 1: extra_words = \", cinematic, colorful background, conceptart, dramatic lighting, high detail, highly detailed, hyper realistic, intricate, intricate sharp details,octane render, smooth, studio lighting, trending on artstation\"\n",
        "  else: extra_words = \" \"\n",
        "  return extra_words\n",
        "\n",
        "def guide(guide_image_bin, image):\n",
        "  if guide_image_bin == 1 and image == \"coinstack\": guide_image = \"/content/coinstack.jpg,\"\n",
        "  elif guide_image_bin == 1 and image == \"boxes\": guide_image = \"/content/boxes.jpg,\"\n",
        "  elif guide_image_bin == 1 and image == \"forest\": guide_image = \"/content/forest.jpg,\"\n",
        "  else: guide_image = \" \"\n",
        "  return guide_image\n",
        "\n",
        "def main(prompt):\n",
        "  if prompt == \"houseing\": main_prompt =  \" straight view of a tiny red house next to a stack of golden coins, 4k, hd\"\n",
        "  elif prompt == \"weather\": main_prompt =  \" a forest in Sweden by a lake, autumn, sun is shining, 4k, hd\"\n",
        "  elif prompt == \"bankruptcy\": main_prompt =  \" cardboard boxes and plants, on a table, in an office, folders, sideview, 4k, hd\"\n",
        "  else: main_prompt = \" \"\n",
        "  return main_prompt\n",
        "\n",
        "for i in range(num_images):\n",
        "  prompt = df[\"prompt\"][i]\n",
        "  image = df[\"image\"][i]\n",
        "  guide_image_bin = df[\"guide_image_bin\"][i]\n",
        "  xtra_prompt = df[\"xtra_prompt\"][i]\n",
        "  images = pipe(prompt=(guide(guide_image_bin, image)+main(prompt)+extra(xtra_prompt)), num_inference_steps=50, guidance_scale = 20, height=400 , width=720, generator=generator ).images\n",
        "  images[0].save(f'/content/Test_images/{i}.png')"
      ],
      "metadata": {
        "id": "voGoZGP2_sRU"
      },
      "execution_count": null,
      "outputs": []
    },
    {
      "cell_type": "code",
      "source": [
        "!zip -r /content/Test_images.zip /content/Test_images"
      ],
      "metadata": {
        "id": "UaAfNCoBe9sp"
      },
      "execution_count": null,
      "outputs": []
    },
    {
      "cell_type": "code",
      "source": [
        "#generator = torch.Generator(\"cuda\").manual_seed(1234)\n",
        "prompt = \"/content/forest.jpg, a forest in Sweden by a lake, autumn, 4k, hd\"\n",
        "image = pipe(prompt, num_inference_steps=50, guidance_scale = 20, height=400 , width=720 ).images[0]\n",
        "\n",
        "image"
      ],
      "metadata": {
        "id": "B4X9vMRUFla0"
      },
      "execution_count": null,
      "outputs": []
    },
    {
      "cell_type": "code",
      "source": [
        "generator = torch.Generator(\"cuda\").manual_seed(1234)\n",
        "\n",
        "xtra_prompt = df[\"xtra_prompt\"][0]\n",
        "\n",
        "def extra(xtra_prompt): \n",
        "  if xtra_prompt == 1: extra_words = \", cinematic, colorful background, conceptart, dramatic lighting, high detail, highly detailed, hyper realistic, intricate, intricate sharp details,octane render, smooth, studio lighting, trending on artstation\"\n",
        "  else: extra_words = \" \"\n",
        "  return extra_words\n",
        "\n",
        "image = df[\"image\"][0]\n",
        "\n",
        "guide_image_bin = df[\"guide_image_bin\"][0]\n",
        "\n",
        "def guide(guide_image_bin, image):\n",
        "  if guide_image_bin == 1 and image == \"coinstack\": guide_image = \"/content/coinstack.jpg,\"\n",
        "  elif guide_image_bin == 1 and image == \"boxes\": guide_image = \"/content/boxes.jpg,\"\n",
        "  elif guide_image_bin == 1 and image == \"forest\": guide_image = \"/content/forest.jpg,\"\n",
        "  else: guide_image = \" \"\n",
        "  return guide_image\n",
        "\n",
        "prompt = df[\"prompt\"][0]\n",
        "\n",
        "def main(prompt):\n",
        "  if prompt == \"houseing\": main_prompt =  \" straight view of a tiny red house next to a stack of golden coins, 4k, hd\"\n",
        "  elif prompt == \"weather\": main_prompt =  \" a forest in Sweden by a lake, autumn, sun is shining, 4k, hd\"\n",
        "  elif prompt == \"bankruptcy\": main_prompt =  \" cardboard boxes and plants, on a table, in an office, folders, sideview, 4k, hd\"\n",
        "  else: main_prompt = \" \"\n",
        "  return main_prompt\n",
        "\n",
        "image = pipe(prompt=(guide(guide_image_bin, image)+main(prompt)+extra(xtra_prompt)), num_inference_steps=50, guidance_scale = 20, height=400 , width=720, generator=generator ).images[0]\n",
        "\n",
        "image"
      ],
      "metadata": {
        "id": "7rkygrwRZUEB"
      },
      "execution_count": null,
      "outputs": []
    },
    {
      "cell_type": "code",
      "source": [
        "generator = torch.Generator(\"cuda\").manual_seed(1234)\n",
        "\n",
        "prompt = \"/content/forest.jpg, a forest in Sweden by a lake, autumn, sun is shining, 4k, hd, cinematic, colorful background, conceptart, dramatic lighting, high detail, highly detailed, hyper realistic, intricate, intricate sharp details,octane render, smooth, studio lighting, trending on artstation\"\n",
        "image = pipe(prompt, num_inference_steps=50, guidance_scale = 20, height=400 , width=720, generator=generator ).images[0]\n",
        "\n",
        "image"
      ],
      "metadata": {
        "id": "pbjuo6peZ2OU"
      },
      "execution_count": null,
      "outputs": []
    },
    {
      "cell_type": "code",
      "source": [
        "def extra(words): \n",
        "  if words == 1: extra_words = \", cinematic, colorful background, conceptart, dramatic lighting, high detail, highly detailed, hyper realistic, intricate, intricate sharp details,octane render, smooth, studio lighting, trending on artstation\"\n",
        "  else: extra_words = \" \"\n",
        "  return extra_words\n",
        "\n",
        "def guide(image, cat):\n",
        "  if image == 1 and cat == \"coinstack\": guide_image = \"/content/coinstack.jpg\"\n",
        "  elif image == 1 and cat == \"boxes\": guide_image = \"/content/boxes.jpg\"\n",
        "  elif image == 1 and cat == \"forest\": guide_image = \"/content/forest.jpg\"\n",
        "  else: guide_image = \" \"\n",
        "  return guide_image\n",
        "\n"
      ],
      "metadata": {
        "id": "pQKI3ZDSmpvZ"
      },
      "execution_count": null,
      "outputs": []
    },
    {
      "cell_type": "code",
      "source": [
        "words = 0\n",
        "\n",
        "extra(words)"
      ],
      "metadata": {
        "id": "mS5J35HFTXOw"
      },
      "execution_count": null,
      "outputs": []
    },
    {
      "cell_type": "code",
      "source": [
        "image = 1\n",
        "\n",
        "cat = \"forest\"\n",
        "\n",
        "guide(image, cat)"
      ],
      "metadata": {
        "id": "o76S9g4U3LsJ"
      },
      "execution_count": null,
      "outputs": []
    },
    {
      "cell_type": "code",
      "source": [
        "\n",
        "\n",
        "xtra_prompt = df[\"xtra_prompt\"][0]\n",
        "\n",
        "def extra(xtra_prompt): \n",
        "  if xtra_prompt == 1: extra_words = \", cinematic, colorful background, conceptart, dramatic lighting, high detail, highly detailed, hyper realistic, intricate, intricate sharp details,octane render, smooth, studio lighting, trending on artstation\"\n",
        "  else: extra_words = \" \"\n",
        "  return extra_words\n",
        "\n",
        "image = df[\"image\"][0]\n",
        "\n",
        "guide_image_bin = df[\"guide_image_bin\"][0]\n",
        "\n",
        "def guide(guide_image_bin, image):\n",
        "  if guide_image_bin == 1 and image == \"coinstack\": guide_image = \"/content/coinstack.jpg,\"\n",
        "  elif guide_image_bin == 1 and image == \"boxes\": guide_image = \"/content/boxes.jpg,\"\n",
        "  elif guide_image_bin == 1 and image == \"forest\": guide_image = \"/content/forest.jpg,\"\n",
        "  else: guide_image = \" \"\n",
        "  return guide_image\n",
        "\n",
        "prompt = df[\"prompt\"][0]\n",
        "\n",
        "def main(prompt):\n",
        "  if prompt == \"houseing\": main_prompt =  \" straight view of a tiny red house next to a stack of golden coins, 4k, hd\"\n",
        "  elif prompt == \"weather\": main_prompt =  \" a forest in Sweden by a lake, autumn, sun is shining, 4k, hd\"\n",
        "  elif prompt == \"bankruptcy\": main_prompt =  \" cardboard boxes and plants, on a table, in an office, folders, sideview, 4k, hd\"\n",
        "  else: main_prompt = \" \"\n",
        "  return main_prompt\n",
        "\n",
        "guide(guide_image_bin, image)+main(prompt)+extra(xtra_prompt)\n"
      ],
      "metadata": {
        "id": "YV3FDIJv94mq"
      },
      "execution_count": null,
      "outputs": []
    }
  ],
  "metadata": {
    "accelerator": "GPU",
    "colab": {
      "machine_shape": "hm",
      "provenance": [],
      "private_outputs": true,
      "include_colab_link": true
    },
    "gpuClass": "standard",
    "kernelspec": {
      "display_name": "Python 3",
      "name": "python3"
    },
    "language_info": {
      "name": "python"
    }
  },
  "nbformat": 4,
  "nbformat_minor": 0
}