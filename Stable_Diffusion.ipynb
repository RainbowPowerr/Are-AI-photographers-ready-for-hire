{
  "cells": [
    {
      "cell_type": "markdown",
      "metadata": {
        "colab_type": "text",
        "id": "view-in-github"
      },
      "source": [
        "<a href=\"https://colab.research.google.com/github/RainbowPowerr/ML-thesis/blob/main/Stable_Diffusion.ipynb\" target=\"_parent\"><img src=\"https://colab.research.google.com/assets/colab-badge.svg\" alt=\"Open In Colab\"/></a>"
      ]
    },
    {
      "cell_type": "markdown",
      "metadata": {
        "id": "WKexiuNrnFlJ"
      },
      "source": [
        "**Stable diffusion**\n",
        "\n",
        "Set up:"
      ]
    },
    {
      "cell_type": "code",
      "execution_count": 1,
      "metadata": {
        "id": "aIrgth7sqFML"
      },
      "outputs": [
        {
          "name": "stdout",
          "output_type": "stream",
          "text": [
            "/bin/sh: line 1: nvidia-smi: command not found\n",
            "Requirement already satisfied: diffusers==0.4.0 in /home/stablediffusion/anaconda3/envs/diffusion-jupyter/lib/python3.10/site-packages (0.4.0)\n",
            "Requirement already satisfied: importlib-metadata in /home/stablediffusion/anaconda3/envs/diffusion-jupyter/lib/python3.10/site-packages (from diffusers==0.4.0) (5.0.0)\n",
            "Requirement already satisfied: regex!=2019.12.17 in /home/stablediffusion/anaconda3/envs/diffusion-jupyter/lib/python3.10/site-packages (from diffusers==0.4.0) (2022.10.31)\n",
            "Requirement already satisfied: torch>=1.4 in /home/stablediffusion/anaconda3/envs/diffusion-jupyter/lib/python3.10/site-packages (from diffusers==0.4.0) (1.13.0)\n",
            "Requirement already satisfied: Pillow<10.0 in /home/stablediffusion/anaconda3/envs/diffusion-jupyter/lib/python3.10/site-packages (from diffusers==0.4.0) (9.3.0)\n",
            "Requirement already satisfied: huggingface-hub>=0.10.0 in /home/stablediffusion/anaconda3/envs/diffusion-jupyter/lib/python3.10/site-packages (from diffusers==0.4.0) (0.10.1)\n",
            "Requirement already satisfied: filelock in /home/stablediffusion/anaconda3/envs/diffusion-jupyter/lib/python3.10/site-packages (from diffusers==0.4.0) (3.8.0)\n",
            "Requirement already satisfied: numpy in /home/stablediffusion/anaconda3/envs/diffusion-jupyter/lib/python3.10/site-packages (from diffusers==0.4.0) (1.23.4)\n",
            "Requirement already satisfied: requests in /home/stablediffusion/anaconda3/envs/diffusion-jupyter/lib/python3.10/site-packages (from diffusers==0.4.0) (2.28.1)\n",
            "Requirement already satisfied: packaging>=20.9 in /home/stablediffusion/.local/lib/python3.10/site-packages (from huggingface-hub>=0.10.0->diffusers==0.4.0) (21.3)\n",
            "Requirement already satisfied: tqdm in /home/stablediffusion/anaconda3/envs/diffusion-jupyter/lib/python3.10/site-packages (from huggingface-hub>=0.10.0->diffusers==0.4.0) (4.64.1)\n",
            "Requirement already satisfied: pyyaml>=5.1 in /home/stablediffusion/anaconda3/envs/diffusion-jupyter/lib/python3.10/site-packages (from huggingface-hub>=0.10.0->diffusers==0.4.0) (6.0)\n",
            "Requirement already satisfied: typing-extensions>=3.7.4.3 in /home/stablediffusion/anaconda3/envs/diffusion-jupyter/lib/python3.10/site-packages (from huggingface-hub>=0.10.0->diffusers==0.4.0) (4.3.0)\n",
            "Requirement already satisfied: nvidia-cuda-runtime-cu11==11.7.99 in /home/stablediffusion/anaconda3/envs/diffusion-jupyter/lib/python3.10/site-packages (from torch>=1.4->diffusers==0.4.0) (11.7.99)\n",
            "Requirement already satisfied: nvidia-cuda-nvrtc-cu11==11.7.99 in /home/stablediffusion/anaconda3/envs/diffusion-jupyter/lib/python3.10/site-packages (from torch>=1.4->diffusers==0.4.0) (11.7.99)\n",
            "Requirement already satisfied: nvidia-cublas-cu11==11.10.3.66 in /home/stablediffusion/anaconda3/envs/diffusion-jupyter/lib/python3.10/site-packages (from torch>=1.4->diffusers==0.4.0) (11.10.3.66)\n",
            "Requirement already satisfied: nvidia-cudnn-cu11==8.5.0.96 in /home/stablediffusion/anaconda3/envs/diffusion-jupyter/lib/python3.10/site-packages (from torch>=1.4->diffusers==0.4.0) (8.5.0.96)\n",
            "Requirement already satisfied: wheel in /home/stablediffusion/anaconda3/envs/diffusion-jupyter/lib/python3.10/site-packages (from nvidia-cublas-cu11==11.10.3.66->torch>=1.4->diffusers==0.4.0) (0.37.1)\n",
            "Requirement already satisfied: setuptools in /home/stablediffusion/anaconda3/envs/diffusion-jupyter/lib/python3.10/site-packages (from nvidia-cublas-cu11==11.10.3.66->torch>=1.4->diffusers==0.4.0) (65.5.0)\n",
            "Requirement already satisfied: zipp>=0.5 in /home/stablediffusion/anaconda3/envs/diffusion-jupyter/lib/python3.10/site-packages (from importlib-metadata->diffusers==0.4.0) (3.10.0)\n",
            "Requirement already satisfied: idna<4,>=2.5 in /home/stablediffusion/anaconda3/envs/diffusion-jupyter/lib/python3.10/site-packages (from requests->diffusers==0.4.0) (3.4)\n",
            "Requirement already satisfied: urllib3<1.27,>=1.21.1 in /home/stablediffusion/anaconda3/envs/diffusion-jupyter/lib/python3.10/site-packages (from requests->diffusers==0.4.0) (1.26.12)\n",
            "Requirement already satisfied: charset-normalizer<3,>=2 in /home/stablediffusion/anaconda3/envs/diffusion-jupyter/lib/python3.10/site-packages (from requests->diffusers==0.4.0) (2.0.4)\n",
            "Requirement already satisfied: certifi>=2017.4.17 in /home/stablediffusion/anaconda3/envs/diffusion-jupyter/lib/python3.10/site-packages (from requests->diffusers==0.4.0) (2022.9.24)\n",
            "Requirement already satisfied: pyparsing!=3.0.5,>=2.0.2 in /home/stablediffusion/.local/lib/python3.10/site-packages (from packaging>=20.9->huggingface-hub>=0.10.0->diffusers==0.4.0) (3.0.9)\n",
            "Requirement already satisfied: transformers in /home/stablediffusion/anaconda3/envs/diffusion-jupyter/lib/python3.10/site-packages (4.24.0)\n",
            "Requirement already satisfied: scipy in /home/stablediffusion/anaconda3/envs/diffusion-jupyter/lib/python3.10/site-packages (1.9.3)\n",
            "Requirement already satisfied: ftfy in /home/stablediffusion/anaconda3/envs/diffusion-jupyter/lib/python3.10/site-packages (6.1.1)\n",
            "Requirement already satisfied: requests in /home/stablediffusion/anaconda3/envs/diffusion-jupyter/lib/python3.10/site-packages (from transformers) (2.28.1)\n",
            "Requirement already satisfied: packaging>=20.0 in /home/stablediffusion/.local/lib/python3.10/site-packages (from transformers) (21.3)\n",
            "Requirement already satisfied: tqdm>=4.27 in /home/stablediffusion/anaconda3/envs/diffusion-jupyter/lib/python3.10/site-packages (from transformers) (4.64.1)\n",
            "Requirement already satisfied: filelock in /home/stablediffusion/anaconda3/envs/diffusion-jupyter/lib/python3.10/site-packages (from transformers) (3.8.0)\n",
            "Requirement already satisfied: tokenizers!=0.11.3,<0.14,>=0.11.1 in /home/stablediffusion/anaconda3/envs/diffusion-jupyter/lib/python3.10/site-packages (from transformers) (0.13.2)\n",
            "Requirement already satisfied: numpy>=1.17 in /home/stablediffusion/anaconda3/envs/diffusion-jupyter/lib/python3.10/site-packages (from transformers) (1.23.4)\n",
            "Requirement already satisfied: huggingface-hub<1.0,>=0.10.0 in /home/stablediffusion/anaconda3/envs/diffusion-jupyter/lib/python3.10/site-packages (from transformers) (0.10.1)\n",
            "Requirement already satisfied: pyyaml>=5.1 in /home/stablediffusion/anaconda3/envs/diffusion-jupyter/lib/python3.10/site-packages (from transformers) (6.0)\n",
            "Requirement already satisfied: regex!=2019.12.17 in /home/stablediffusion/anaconda3/envs/diffusion-jupyter/lib/python3.10/site-packages (from transformers) (2022.10.31)\n",
            "Requirement already satisfied: wcwidth>=0.2.5 in /home/stablediffusion/.local/lib/python3.10/site-packages (from ftfy) (0.2.5)\n",
            "Requirement already satisfied: typing-extensions>=3.7.4.3 in /home/stablediffusion/anaconda3/envs/diffusion-jupyter/lib/python3.10/site-packages (from huggingface-hub<1.0,>=0.10.0->transformers) (4.3.0)\n",
            "Requirement already satisfied: pyparsing!=3.0.5,>=2.0.2 in /home/stablediffusion/.local/lib/python3.10/site-packages (from packaging>=20.0->transformers) (3.0.9)\n",
            "Requirement already satisfied: certifi>=2017.4.17 in /home/stablediffusion/anaconda3/envs/diffusion-jupyter/lib/python3.10/site-packages (from requests->transformers) (2022.9.24)\n",
            "Requirement already satisfied: idna<4,>=2.5 in /home/stablediffusion/anaconda3/envs/diffusion-jupyter/lib/python3.10/site-packages (from requests->transformers) (3.4)\n",
            "Requirement already satisfied: urllib3<1.27,>=1.21.1 in /home/stablediffusion/anaconda3/envs/diffusion-jupyter/lib/python3.10/site-packages (from requests->transformers) (1.26.12)\n",
            "Requirement already satisfied: charset-normalizer<3,>=2 in /home/stablediffusion/anaconda3/envs/diffusion-jupyter/lib/python3.10/site-packages (from requests->transformers) (2.0.4)\n",
            "Requirement already satisfied: ipywidgets<8,>=7 in /home/stablediffusion/anaconda3/envs/diffusion-jupyter/lib/python3.10/site-packages (7.6.5)\n",
            "Requirement already satisfied: jupyterlab-widgets>=1.0.0 in /home/stablediffusion/anaconda3/envs/diffusion-jupyter/lib/python3.10/site-packages (from ipywidgets<8,>=7) (1.0.0)\n",
            "Requirement already satisfied: ipython-genutils~=0.2.0 in /home/stablediffusion/anaconda3/envs/diffusion-jupyter/lib/python3.10/site-packages (from ipywidgets<8,>=7) (0.2.0)\n",
            "Requirement already satisfied: widgetsnbextension~=3.5.0 in /home/stablediffusion/anaconda3/envs/diffusion-jupyter/lib/python3.10/site-packages (from ipywidgets<8,>=7) (3.5.2)\n",
            "Requirement already satisfied: traitlets>=4.3.1 in /home/stablediffusion/.local/lib/python3.10/site-packages (from ipywidgets<8,>=7) (5.5.0)\n",
            "Requirement already satisfied: nbformat>=4.2.0 in /home/stablediffusion/anaconda3/envs/diffusion-jupyter/lib/python3.10/site-packages (from ipywidgets<8,>=7) (5.5.0)\n",
            "Requirement already satisfied: ipython>=4.0.0 in /home/stablediffusion/.local/lib/python3.10/site-packages (from ipywidgets<8,>=7) (8.6.0)\n",
            "Requirement already satisfied: ipykernel>=4.5.1 in /home/stablediffusion/.local/lib/python3.10/site-packages (from ipywidgets<8,>=7) (6.17.1)\n",
            "Requirement already satisfied: pyzmq>=17 in /home/stablediffusion/.local/lib/python3.10/site-packages (from ipykernel>=4.5.1->ipywidgets<8,>=7) (24.0.1)\n",
            "Requirement already satisfied: psutil in /home/stablediffusion/.local/lib/python3.10/site-packages (from ipykernel>=4.5.1->ipywidgets<8,>=7) (5.9.4)\n",
            "Requirement already satisfied: nest-asyncio in /home/stablediffusion/.local/lib/python3.10/site-packages (from ipykernel>=4.5.1->ipywidgets<8,>=7) (1.5.6)\n",
            "Requirement already satisfied: matplotlib-inline>=0.1 in /home/stablediffusion/.local/lib/python3.10/site-packages (from ipykernel>=4.5.1->ipywidgets<8,>=7) (0.1.6)\n",
            "Requirement already satisfied: packaging in /home/stablediffusion/.local/lib/python3.10/site-packages (from ipykernel>=4.5.1->ipywidgets<8,>=7) (21.3)\n",
            "Requirement already satisfied: debugpy>=1.0 in /home/stablediffusion/.local/lib/python3.10/site-packages (from ipykernel>=4.5.1->ipywidgets<8,>=7) (1.6.3)\n",
            "Requirement already satisfied: jupyter-client>=6.1.12 in /home/stablediffusion/.local/lib/python3.10/site-packages (from ipykernel>=4.5.1->ipywidgets<8,>=7) (7.4.5)\n",
            "Requirement already satisfied: tornado>=6.1 in /home/stablediffusion/.local/lib/python3.10/site-packages (from ipykernel>=4.5.1->ipywidgets<8,>=7) (6.2)\n",
            "Requirement already satisfied: pygments>=2.4.0 in /home/stablediffusion/anaconda3/envs/diffusion-jupyter/lib/python3.10/site-packages (from ipython>=4.0.0->ipywidgets<8,>=7) (2.11.2)\n",
            "Requirement already satisfied: decorator in /home/stablediffusion/.local/lib/python3.10/site-packages (from ipython>=4.0.0->ipywidgets<8,>=7) (5.1.1)\n",
            "Requirement already satisfied: stack-data in /home/stablediffusion/.local/lib/python3.10/site-packages (from ipython>=4.0.0->ipywidgets<8,>=7) (0.6.1)\n",
            "Requirement already satisfied: prompt-toolkit<3.1.0,>3.0.1 in /home/stablediffusion/.local/lib/python3.10/site-packages (from ipython>=4.0.0->ipywidgets<8,>=7) (3.0.32)\n",
            "Requirement already satisfied: jedi>=0.16 in /home/stablediffusion/.local/lib/python3.10/site-packages (from ipython>=4.0.0->ipywidgets<8,>=7) (0.18.1)\n",
            "Requirement already satisfied: pexpect>4.3 in /home/stablediffusion/.local/lib/python3.10/site-packages (from ipython>=4.0.0->ipywidgets<8,>=7) (4.8.0)\n",
            "Requirement already satisfied: backcall in /home/stablediffusion/.local/lib/python3.10/site-packages (from ipython>=4.0.0->ipywidgets<8,>=7) (0.2.0)\n",
            "Requirement already satisfied: pickleshare in /home/stablediffusion/.local/lib/python3.10/site-packages (from ipython>=4.0.0->ipywidgets<8,>=7) (0.7.5)\n",
            "Requirement already satisfied: jsonschema>=2.6 in /home/stablediffusion/anaconda3/envs/diffusion-jupyter/lib/python3.10/site-packages (from nbformat>=4.2.0->ipywidgets<8,>=7) (4.16.0)\n",
            "Requirement already satisfied: fastjsonschema in /home/stablediffusion/anaconda3/envs/diffusion-jupyter/lib/python3.10/site-packages (from nbformat>=4.2.0->ipywidgets<8,>=7) (2.16.2)\n",
            "Requirement already satisfied: jupyter_core in /home/stablediffusion/.local/lib/python3.10/site-packages (from nbformat>=4.2.0->ipywidgets<8,>=7) (5.0.0)\n",
            "Requirement already satisfied: notebook>=4.4.1 in /home/stablediffusion/anaconda3/envs/diffusion-jupyter/lib/python3.10/site-packages (from widgetsnbextension~=3.5.0->ipywidgets<8,>=7) (6.5.2)\n",
            "Requirement already satisfied: parso<0.9.0,>=0.8.0 in /home/stablediffusion/.local/lib/python3.10/site-packages (from jedi>=0.16->ipython>=4.0.0->ipywidgets<8,>=7) (0.8.3)\n",
            "Requirement already satisfied: attrs>=17.4.0 in /home/stablediffusion/anaconda3/envs/diffusion-jupyter/lib/python3.10/site-packages (from jsonschema>=2.6->nbformat>=4.2.0->ipywidgets<8,>=7) (21.4.0)\n",
            "Requirement already satisfied: pyrsistent!=0.17.0,!=0.17.1,!=0.17.2,>=0.14.0 in /home/stablediffusion/anaconda3/envs/diffusion-jupyter/lib/python3.10/site-packages (from jsonschema>=2.6->nbformat>=4.2.0->ipywidgets<8,>=7) (0.18.0)\n",
            "Requirement already satisfied: python-dateutil>=2.8.2 in /home/stablediffusion/.local/lib/python3.10/site-packages (from jupyter-client>=6.1.12->ipykernel>=4.5.1->ipywidgets<8,>=7) (2.8.2)\n",
            "Requirement already satisfied: entrypoints in /home/stablediffusion/.local/lib/python3.10/site-packages (from jupyter-client>=6.1.12->ipykernel>=4.5.1->ipywidgets<8,>=7) (0.4)\n",
            "Requirement already satisfied: platformdirs in /home/stablediffusion/.local/lib/python3.10/site-packages (from jupyter_core->nbformat>=4.2.0->ipywidgets<8,>=7) (2.5.4)\n",
            "Requirement already satisfied: nbconvert>=5 in /home/stablediffusion/anaconda3/envs/diffusion-jupyter/lib/python3.10/site-packages (from notebook>=4.4.1->widgetsnbextension~=3.5.0->ipywidgets<8,>=7) (6.4.4)\n",
            "Requirement already satisfied: terminado>=0.8.3 in /home/stablediffusion/anaconda3/envs/diffusion-jupyter/lib/python3.10/site-packages (from notebook>=4.4.1->widgetsnbextension~=3.5.0->ipywidgets<8,>=7) (0.13.1)\n",
            "Requirement already satisfied: prometheus-client in /home/stablediffusion/anaconda3/envs/diffusion-jupyter/lib/python3.10/site-packages (from notebook>=4.4.1->widgetsnbextension~=3.5.0->ipywidgets<8,>=7) (0.14.1)\n",
            "Requirement already satisfied: nbclassic>=0.4.7 in /home/stablediffusion/anaconda3/envs/diffusion-jupyter/lib/python3.10/site-packages (from notebook>=4.4.1->widgetsnbextension~=3.5.0->ipywidgets<8,>=7) (0.4.8)\n",
            "Requirement already satisfied: argon2-cffi in /home/stablediffusion/anaconda3/envs/diffusion-jupyter/lib/python3.10/site-packages (from notebook>=4.4.1->widgetsnbextension~=3.5.0->ipywidgets<8,>=7) (21.3.0)\n",
            "Requirement already satisfied: Send2Trash>=1.8.0 in /home/stablediffusion/anaconda3/envs/diffusion-jupyter/lib/python3.10/site-packages (from notebook>=4.4.1->widgetsnbextension~=3.5.0->ipywidgets<8,>=7) (1.8.0)\n",
            "Requirement already satisfied: jinja2 in /home/stablediffusion/anaconda3/envs/diffusion-jupyter/lib/python3.10/site-packages (from notebook>=4.4.1->widgetsnbextension~=3.5.0->ipywidgets<8,>=7) (3.1.2)\n",
            "Requirement already satisfied: ptyprocess>=0.5 in /home/stablediffusion/.local/lib/python3.10/site-packages (from pexpect>4.3->ipython>=4.0.0->ipywidgets<8,>=7) (0.7.0)\n",
            "Requirement already satisfied: wcwidth in /home/stablediffusion/.local/lib/python3.10/site-packages (from prompt-toolkit<3.1.0,>3.0.1->ipython>=4.0.0->ipywidgets<8,>=7) (0.2.5)\n",
            "Requirement already satisfied: pyparsing!=3.0.5,>=2.0.2 in /home/stablediffusion/.local/lib/python3.10/site-packages (from packaging->ipykernel>=4.5.1->ipywidgets<8,>=7) (3.0.9)\n",
            "Requirement already satisfied: executing>=1.2.0 in /home/stablediffusion/.local/lib/python3.10/site-packages (from stack-data->ipython>=4.0.0->ipywidgets<8,>=7) (1.2.0)\n",
            "Requirement already satisfied: asttokens>=2.1.0 in /home/stablediffusion/.local/lib/python3.10/site-packages (from stack-data->ipython>=4.0.0->ipywidgets<8,>=7) (2.1.0)\n",
            "Requirement already satisfied: pure-eval in /home/stablediffusion/.local/lib/python3.10/site-packages (from stack-data->ipython>=4.0.0->ipywidgets<8,>=7) (0.2.2)\n",
            "Requirement already satisfied: six in /home/stablediffusion/anaconda3/envs/diffusion-jupyter/lib/python3.10/site-packages (from asttokens>=2.1.0->stack-data->ipython>=4.0.0->ipywidgets<8,>=7) (1.16.0)\n",
            "Requirement already satisfied: jupyter-server>=1.8 in /home/stablediffusion/anaconda3/envs/diffusion-jupyter/lib/python3.10/site-packages (from nbclassic>=0.4.7->notebook>=4.4.1->widgetsnbextension~=3.5.0->ipywidgets<8,>=7) (1.18.1)\n",
            "Requirement already satisfied: notebook-shim>=0.1.0 in /home/stablediffusion/anaconda3/envs/diffusion-jupyter/lib/python3.10/site-packages (from nbclassic>=0.4.7->notebook>=4.4.1->widgetsnbextension~=3.5.0->ipywidgets<8,>=7) (0.2.2)\n",
            "Requirement already satisfied: jupyterlab-pygments in /home/stablediffusion/anaconda3/envs/diffusion-jupyter/lib/python3.10/site-packages (from nbconvert>=5->notebook>=4.4.1->widgetsnbextension~=3.5.0->ipywidgets<8,>=7) (0.1.2)\n",
            "Requirement already satisfied: pandocfilters>=1.4.1 in /home/stablediffusion/anaconda3/envs/diffusion-jupyter/lib/python3.10/site-packages (from nbconvert>=5->notebook>=4.4.1->widgetsnbextension~=3.5.0->ipywidgets<8,>=7) (1.5.0)\n",
            "Requirement already satisfied: beautifulsoup4 in /home/stablediffusion/anaconda3/envs/diffusion-jupyter/lib/python3.10/site-packages (from nbconvert>=5->notebook>=4.4.1->widgetsnbextension~=3.5.0->ipywidgets<8,>=7) (4.11.1)\n",
            "Requirement already satisfied: defusedxml in /home/stablediffusion/anaconda3/envs/diffusion-jupyter/lib/python3.10/site-packages (from nbconvert>=5->notebook>=4.4.1->widgetsnbextension~=3.5.0->ipywidgets<8,>=7) (0.7.1)\n",
            "Requirement already satisfied: testpath in /home/stablediffusion/anaconda3/envs/diffusion-jupyter/lib/python3.10/site-packages (from nbconvert>=5->notebook>=4.4.1->widgetsnbextension~=3.5.0->ipywidgets<8,>=7) (0.6.0)\n",
            "Requirement already satisfied: bleach in /home/stablediffusion/anaconda3/envs/diffusion-jupyter/lib/python3.10/site-packages (from nbconvert>=5->notebook>=4.4.1->widgetsnbextension~=3.5.0->ipywidgets<8,>=7) (4.1.0)\n",
            "Requirement already satisfied: mistune<2,>=0.8.1 in /home/stablediffusion/anaconda3/envs/diffusion-jupyter/lib/python3.10/site-packages (from nbconvert>=5->notebook>=4.4.1->widgetsnbextension~=3.5.0->ipywidgets<8,>=7) (0.8.4)\n",
            "Requirement already satisfied: nbclient<0.6.0,>=0.5.0 in /home/stablediffusion/anaconda3/envs/diffusion-jupyter/lib/python3.10/site-packages (from nbconvert>=5->notebook>=4.4.1->widgetsnbextension~=3.5.0->ipywidgets<8,>=7) (0.5.13)\n",
            "Requirement already satisfied: MarkupSafe>=2.0 in /home/stablediffusion/anaconda3/envs/diffusion-jupyter/lib/python3.10/site-packages (from jinja2->notebook>=4.4.1->widgetsnbextension~=3.5.0->ipywidgets<8,>=7) (2.1.1)\n",
            "Requirement already satisfied: argon2-cffi-bindings in /home/stablediffusion/anaconda3/envs/diffusion-jupyter/lib/python3.10/site-packages (from argon2-cffi->notebook>=4.4.1->widgetsnbextension~=3.5.0->ipywidgets<8,>=7) (21.2.0)\n",
            "Requirement already satisfied: websocket-client in /home/stablediffusion/anaconda3/envs/diffusion-jupyter/lib/python3.10/site-packages (from jupyter-server>=1.8->nbclassic>=0.4.7->notebook>=4.4.1->widgetsnbextension~=3.5.0->ipywidgets<8,>=7) (0.58.0)\n",
            "Requirement already satisfied: anyio<4,>=3.1.0 in /home/stablediffusion/anaconda3/envs/diffusion-jupyter/lib/python3.10/site-packages (from jupyter-server>=1.8->nbclassic>=0.4.7->notebook>=4.4.1->widgetsnbextension~=3.5.0->ipywidgets<8,>=7) (3.5.0)\n",
            "Requirement already satisfied: cffi>=1.0.1 in /home/stablediffusion/anaconda3/envs/diffusion-jupyter/lib/python3.10/site-packages (from argon2-cffi-bindings->argon2-cffi->notebook>=4.4.1->widgetsnbextension~=3.5.0->ipywidgets<8,>=7) (1.15.1)\n",
            "Requirement already satisfied: soupsieve>1.2 in /home/stablediffusion/anaconda3/envs/diffusion-jupyter/lib/python3.10/site-packages (from beautifulsoup4->nbconvert>=5->notebook>=4.4.1->widgetsnbextension~=3.5.0->ipywidgets<8,>=7) (2.3.2.post1)\n",
            "Requirement already satisfied: webencodings in /home/stablediffusion/anaconda3/envs/diffusion-jupyter/lib/python3.10/site-packages (from bleach->nbconvert>=5->notebook>=4.4.1->widgetsnbextension~=3.5.0->ipywidgets<8,>=7) (0.5.1)\n",
            "Requirement already satisfied: idna>=2.8 in /home/stablediffusion/anaconda3/envs/diffusion-jupyter/lib/python3.10/site-packages (from anyio<4,>=3.1.0->jupyter-server>=1.8->nbclassic>=0.4.7->notebook>=4.4.1->widgetsnbextension~=3.5.0->ipywidgets<8,>=7) (3.4)\n",
            "Requirement already satisfied: sniffio>=1.1 in /home/stablediffusion/anaconda3/envs/diffusion-jupyter/lib/python3.10/site-packages (from anyio<4,>=3.1.0->jupyter-server>=1.8->nbclassic>=0.4.7->notebook>=4.4.1->widgetsnbextension~=3.5.0->ipywidgets<8,>=7) (1.2.0)\n",
            "Requirement already satisfied: pycparser in /home/stablediffusion/anaconda3/envs/diffusion-jupyter/lib/python3.10/site-packages (from cffi>=1.0.1->argon2-cffi-bindings->argon2-cffi->notebook>=4.4.1->widgetsnbextension~=3.5.0->ipywidgets<8,>=7) (2.21)\n"
          ]
        },
        {
          "ename": "ModuleNotFoundError",
          "evalue": "No module named 'google'",
          "output_type": "error",
          "traceback": [
            "\u001b[0;31m---------------------------------------------------------------------------\u001b[0m",
            "\u001b[0;31mModuleNotFoundError\u001b[0m                       Traceback (most recent call last)",
            "Cell \u001b[0;32mIn [1], line 7\u001b[0m\n\u001b[1;32m      4\u001b[0m get_ipython()\u001b[39m.\u001b[39msystem(\u001b[39m'\u001b[39m\u001b[39mpip install transformers scipy ftfy\u001b[39m\u001b[39m'\u001b[39m)\n\u001b[1;32m      5\u001b[0m get_ipython()\u001b[39m.\u001b[39msystem(\u001b[39m'\u001b[39m\u001b[39mpip install \u001b[39m\u001b[39m\"\u001b[39m\u001b[39mipywidgets>=7,<8\u001b[39m\u001b[39m\"\u001b[39m\u001b[39m'\u001b[39m)\n\u001b[0;32m----> 7\u001b[0m \u001b[39mfrom\u001b[39;00m \u001b[39mgoogle\u001b[39;00m\u001b[39m.\u001b[39;00m\u001b[39mcolab\u001b[39;00m \u001b[39mimport\u001b[39;00m output\n\u001b[1;32m      8\u001b[0m output\u001b[39m.\u001b[39menable_custom_widget_manager()\n\u001b[1;32m     10\u001b[0m \u001b[39mfrom\u001b[39;00m \u001b[39mhuggingface_hub\u001b[39;00m \u001b[39mimport\u001b[39;00m notebook_login\n",
            "\u001b[0;31mModuleNotFoundError\u001b[0m: No module named 'google'"
          ]
        }
      ],
      "source": [
        "!nvidia-smi\n",
        "\n",
        "!pip install diffusers==0.4.0\n",
        "!pip install transformers scipy ftfy\n",
        "!pip install \"ipywidgets>=7,<8\"\n",
        "\n",
        "from huggingface_hub import notebook_login\n",
        "\n",
        "notebook_login()"
      ]
    },
    {
      "cell_type": "markdown",
      "metadata": {
        "id": "-4MUzooRnW2S"
      },
      "source": [
        "Download model and prep grid"
      ]
    },
    {
      "cell_type": "code",
      "execution_count": 2,
      "metadata": {
        "id": "xSKWBKFPArKS"
      },
      "outputs": [
        {
          "data": {
            "application/vnd.jupyter.widget-view+json": {
              "model_id": "5339507dcefb486bb25bf492ed975a4e",
              "version_major": 2,
              "version_minor": 0
            },
            "text/plain": [
              "Fetching 15 files:   0%|          | 0/15 [00:00<?, ?it/s]"
            ]
          },
          "metadata": {},
          "output_type": "display_data"
        }
      ],
      "source": [
        "from diffusers import StableDiffusionPipeline\n",
        "import torch\n",
        "\n",
        "model_id = \"runwayml/stable-diffusion-v1-5\"\n",
        "pipe = StableDiffusionPipeline.from_pretrained(model_id, torch_dtype=torch.float16, revision=\"fp16\")\n",
        "pipe = pipe.to(\"cuda\")\n",
        "\n",
        "from PIL import Image\n",
        "\n",
        "def image_grid(imgs, rows, cols):\n",
        "    assert len(imgs) == rows*cols\n",
        "\n",
        "    w, h = imgs[0].size\n",
        "    grid = Image.new('RGB', size=(cols*w, rows*h))\n",
        "    grid_w, grid_h = grid.size\n",
        "    \n",
        "    for i, img in enumerate(imgs):\n",
        "        grid.paste(img, box=(i%cols*w, i//cols*h))\n",
        "    return grid\n",
        "all_images = []\n",
        "\n",
        "import os\n",
        "\n",
        "def createFolder(directory):\n",
        "    try:\n",
        "        if not os.path.exists(directory):\n",
        "            os.makedirs(directory)\n",
        "    except OSError:\n",
        "        print ('Error: Creating directory. ' +  directory)"
      ]
    },
    {
      "cell_type": "markdown",
      "metadata": {
        "id": "xHaL8rNSH-95"
      },
      "source": [
        "Generating single images (with and without grid)"
      ]
    },
    {
      "cell_type": "code",
      "execution_count": null,
      "metadata": {
        "id": "TZdk190YweSt"
      },
      "outputs": [],
      "source": [
        "def image_grid(imgs, rows, cols):\n",
        "    assert len(imgs) == rows*cols\n",
        "\n",
        "    w, h = imgs[0].size\n",
        "    grid = Image.new('RGB', size=(cols*w, rows*h))\n",
        "    grid_w, grid_h = grid.size\n",
        "    \n",
        "    for i, img in enumerate(imgs):\n",
        "        grid.paste(img, box=(i%cols*w, i//cols*h))\n",
        "    return grid\n",
        "all_images = []\n",
        "\n",
        "num_cols = 3\n",
        "num_rows = 4\n",
        "\n",
        "prompt = [\"/content/forest.jpg, a forest in Sweden by a lake, autumn, 4k, hd\"] * num_cols\n",
        "generator = torch.Generator(\"cuda\").manual_seed(984799)\n",
        "\n",
        "\n",
        "for i in range(num_rows):\n",
        "  images = pipe(prompt, num_inference_steps=50, guidance_scale = 8, generator=generator).images\n",
        "  all_images.extend(images)\n",
        "\n",
        "grid = image_grid(all_images, rows=num_rows, cols=num_cols)\n",
        "grid\n"
      ]
    },
    {
      "cell_type": "code",
      "execution_count": 11,
      "metadata": {
        "id": "r-FG0eNuQp4n"
      },
      "outputs": [
        {
          "name": "stdout",
          "output_type": "stream",
          "text": [
            "/home/stablediffusion/Documents/GitHub/ML-thesis\n"
          ]
        },
        {
          "data": {
            "application/vnd.jupyter.widget-view+json": {
              "model_id": "31c856db2f034620ae3ebe8ba67ea142",
              "version_major": 2,
              "version_minor": 0
            },
            "text/plain": [
              "  0%|          | 0/51 [00:00<?, ?it/s]"
            ]
          },
          "metadata": {},
          "output_type": "display_data"
        },
        {
          "ename": "KeyboardInterrupt",
          "evalue": "",
          "output_type": "error",
          "traceback": [
            "\u001b[0;31m---------------------------------------------------------------------------\u001b[0m",
            "\u001b[0;31mKeyboardInterrupt\u001b[0m                         Traceback (most recent call last)",
            "Cell \u001b[0;32mIn [11], line 5\u001b[0m\n\u001b[1;32m      3\u001b[0m generator \u001b[39m=\u001b[39m torch\u001b[39m.\u001b[39mGenerator(\u001b[39m\"\u001b[39m\u001b[39mcuda\u001b[39m\u001b[39m\"\u001b[39m)\u001b[39m.\u001b[39mmanual_seed(\u001b[39m1234\u001b[39m)\n\u001b[1;32m      4\u001b[0m prompt \u001b[39m=\u001b[39m \u001b[39m\"\u001b[39m\u001b[39m./Images/Guide_Images/coinstack.jpg, straight view of a tiny red house next to a stack of golden coins, 4k, hd\u001b[39m\u001b[39m\"\u001b[39m\n\u001b[0;32m----> 5\u001b[0m image \u001b[39m=\u001b[39m pipe(prompt, num_inference_steps\u001b[39m=\u001b[39;49m\u001b[39m50\u001b[39;49m, guidance_scale \u001b[39m=\u001b[39;49m \u001b[39m20\u001b[39;49m, generator\u001b[39m=\u001b[39;49mgenerator, height\u001b[39m=\u001b[39;49m\u001b[39m400\u001b[39;49m , width\u001b[39m=\u001b[39;49m\u001b[39m720\u001b[39;49m )\u001b[39m.\u001b[39mimages[\u001b[39m0\u001b[39m]\n\u001b[1;32m      7\u001b[0m image\u001b[39m.\u001b[39msave(\u001b[39m\"\u001b[39m\u001b[39m./Images/Test_Images/Housing_market.png\u001b[39m\u001b[39m\"\u001b[39m)\n",
            "File \u001b[0;32m~/anaconda3/envs/diffusion-jupyter/lib/python3.10/site-packages/torch/autograd/grad_mode.py:27\u001b[0m, in \u001b[0;36m_DecoratorContextManager.__call__.<locals>.decorate_context\u001b[0;34m(*args, **kwargs)\u001b[0m\n\u001b[1;32m     24\u001b[0m \u001b[39m@functools\u001b[39m\u001b[39m.\u001b[39mwraps(func)\n\u001b[1;32m     25\u001b[0m \u001b[39mdef\u001b[39;00m \u001b[39mdecorate_context\u001b[39m(\u001b[39m*\u001b[39margs, \u001b[39m*\u001b[39m\u001b[39m*\u001b[39mkwargs):\n\u001b[1;32m     26\u001b[0m     \u001b[39mwith\u001b[39;00m \u001b[39mself\u001b[39m\u001b[39m.\u001b[39mclone():\n\u001b[0;32m---> 27\u001b[0m         \u001b[39mreturn\u001b[39;00m func(\u001b[39m*\u001b[39;49margs, \u001b[39m*\u001b[39;49m\u001b[39m*\u001b[39;49mkwargs)\n",
            "File \u001b[0;32m~/anaconda3/envs/diffusion-jupyter/lib/python3.10/site-packages/diffusers/pipelines/stable_diffusion/pipeline_stable_diffusion.py:320\u001b[0m, in \u001b[0;36mStableDiffusionPipeline.__call__\u001b[0;34m(self, prompt, height, width, num_inference_steps, guidance_scale, negative_prompt, num_images_per_prompt, eta, generator, latents, output_type, return_dict, callback, callback_steps, **kwargs)\u001b[0m\n\u001b[1;32m    317\u001b[0m     noise_pred \u001b[39m=\u001b[39m noise_pred_uncond \u001b[39m+\u001b[39m guidance_scale \u001b[39m*\u001b[39m (noise_pred_text \u001b[39m-\u001b[39m noise_pred_uncond)\n\u001b[1;32m    319\u001b[0m \u001b[39m# compute the previous noisy sample x_t -> x_t-1\u001b[39;00m\n\u001b[0;32m--> 320\u001b[0m latents \u001b[39m=\u001b[39m \u001b[39mself\u001b[39;49m\u001b[39m.\u001b[39;49mscheduler\u001b[39m.\u001b[39;49mstep(noise_pred, t, latents, \u001b[39m*\u001b[39;49m\u001b[39m*\u001b[39;49mextra_step_kwargs)\u001b[39m.\u001b[39mprev_sample\n\u001b[1;32m    322\u001b[0m \u001b[39m# call the callback, if provided\u001b[39;00m\n\u001b[1;32m    323\u001b[0m \u001b[39mif\u001b[39;00m callback \u001b[39mis\u001b[39;00m \u001b[39mnot\u001b[39;00m \u001b[39mNone\u001b[39;00m \u001b[39mand\u001b[39;00m i \u001b[39m%\u001b[39m callback_steps \u001b[39m==\u001b[39m \u001b[39m0\u001b[39m:\n",
            "File \u001b[0;32m~/anaconda3/envs/diffusion-jupyter/lib/python3.10/site-packages/diffusers/schedulers/scheduling_pndm.py:225\u001b[0m, in \u001b[0;36mPNDMScheduler.step\u001b[0;34m(self, model_output, timestep, sample, return_dict)\u001b[0m\n\u001b[1;32m    223\u001b[0m     \u001b[39mreturn\u001b[39;00m \u001b[39mself\u001b[39m\u001b[39m.\u001b[39mstep_prk(model_output\u001b[39m=\u001b[39mmodel_output, timestep\u001b[39m=\u001b[39mtimestep, sample\u001b[39m=\u001b[39msample, return_dict\u001b[39m=\u001b[39mreturn_dict)\n\u001b[1;32m    224\u001b[0m \u001b[39melse\u001b[39;00m:\n\u001b[0;32m--> 225\u001b[0m     \u001b[39mreturn\u001b[39;00m \u001b[39mself\u001b[39;49m\u001b[39m.\u001b[39;49mstep_plms(model_output\u001b[39m=\u001b[39;49mmodel_output, timestep\u001b[39m=\u001b[39;49mtimestep, sample\u001b[39m=\u001b[39;49msample, return_dict\u001b[39m=\u001b[39;49mreturn_dict)\n",
            "File \u001b[0;32m~/anaconda3/envs/diffusion-jupyter/lib/python3.10/site-packages/diffusers/schedulers/scheduling_pndm.py:340\u001b[0m, in \u001b[0;36mPNDMScheduler.step_plms\u001b[0;34m(self, model_output, timestep, sample, return_dict)\u001b[0m\n\u001b[1;32m    337\u001b[0m \u001b[39melse\u001b[39;00m:\n\u001b[1;32m    338\u001b[0m     model_output \u001b[39m=\u001b[39m (\u001b[39m1\u001b[39m \u001b[39m/\u001b[39m \u001b[39m24\u001b[39m) \u001b[39m*\u001b[39m (\u001b[39m55\u001b[39m \u001b[39m*\u001b[39m \u001b[39mself\u001b[39m\u001b[39m.\u001b[39mets[\u001b[39m-\u001b[39m\u001b[39m1\u001b[39m] \u001b[39m-\u001b[39m \u001b[39m59\u001b[39m \u001b[39m*\u001b[39m \u001b[39mself\u001b[39m\u001b[39m.\u001b[39mets[\u001b[39m-\u001b[39m\u001b[39m2\u001b[39m] \u001b[39m+\u001b[39m \u001b[39m37\u001b[39m \u001b[39m*\u001b[39m \u001b[39mself\u001b[39m\u001b[39m.\u001b[39mets[\u001b[39m-\u001b[39m\u001b[39m3\u001b[39m] \u001b[39m-\u001b[39m \u001b[39m9\u001b[39m \u001b[39m*\u001b[39m \u001b[39mself\u001b[39m\u001b[39m.\u001b[39mets[\u001b[39m-\u001b[39m\u001b[39m4\u001b[39m])\n\u001b[0;32m--> 340\u001b[0m prev_sample \u001b[39m=\u001b[39m \u001b[39mself\u001b[39;49m\u001b[39m.\u001b[39;49m_get_prev_sample(sample, timestep, prev_timestep, model_output)\n\u001b[1;32m    341\u001b[0m \u001b[39mself\u001b[39m\u001b[39m.\u001b[39mcounter \u001b[39m+\u001b[39m\u001b[39m=\u001b[39m \u001b[39m1\u001b[39m\n\u001b[1;32m    343\u001b[0m \u001b[39mif\u001b[39;00m \u001b[39mnot\u001b[39;00m return_dict:\n",
            "File \u001b[0;32m~/anaconda3/envs/diffusion-jupyter/lib/python3.10/site-packages/diffusers/schedulers/scheduling_pndm.py:376\u001b[0m, in \u001b[0;36mPNDMScheduler._get_prev_sample\u001b[0;34m(self, sample, timestep, prev_timestep, model_output)\u001b[0m\n\u001b[1;32m    374\u001b[0m alpha_prod_t \u001b[39m=\u001b[39m \u001b[39mself\u001b[39m\u001b[39m.\u001b[39malphas_cumprod[timestep]\n\u001b[1;32m    375\u001b[0m alpha_prod_t_prev \u001b[39m=\u001b[39m \u001b[39mself\u001b[39m\u001b[39m.\u001b[39malphas_cumprod[prev_timestep] \u001b[39mif\u001b[39;00m prev_timestep \u001b[39m>\u001b[39m\u001b[39m=\u001b[39m \u001b[39m0\u001b[39m \u001b[39melse\u001b[39;00m \u001b[39mself\u001b[39m\u001b[39m.\u001b[39mfinal_alpha_cumprod\n\u001b[0;32m--> 376\u001b[0m beta_prod_t \u001b[39m=\u001b[39m \u001b[39m1\u001b[39;49m \u001b[39m-\u001b[39;49m alpha_prod_t\n\u001b[1;32m    377\u001b[0m beta_prod_t_prev \u001b[39m=\u001b[39m \u001b[39m1\u001b[39m \u001b[39m-\u001b[39m alpha_prod_t_prev\n\u001b[1;32m    379\u001b[0m \u001b[39m# corresponds to (α_(t−δ) - α_t) divided by\u001b[39;00m\n\u001b[1;32m    380\u001b[0m \u001b[39m# denominator of x_t in formula (9) and plus 1\u001b[39;00m\n\u001b[1;32m    381\u001b[0m \u001b[39m# Note: (α_(t−δ) - α_t) / (sqrt(α_t) * (sqrt(α_(t−δ)) + sqr(α_t))) =\u001b[39;00m\n\u001b[1;32m    382\u001b[0m \u001b[39m# sqrt(α_(t−δ)) / sqrt(α_t))\u001b[39;00m\n",
            "File \u001b[0;32m~/anaconda3/envs/diffusion-jupyter/lib/python3.10/site-packages/torch/_tensor.py:37\u001b[0m, in \u001b[0;36m_handle_torch_function_and_wrap_type_error_to_not_implemented.<locals>.wrapped\u001b[0;34m(*args, **kwargs)\u001b[0m\n\u001b[1;32m     33\u001b[0m \u001b[39m@functools\u001b[39m\u001b[39m.\u001b[39mwraps(f, assigned\u001b[39m=\u001b[39massigned)\n\u001b[1;32m     34\u001b[0m \u001b[39mdef\u001b[39;00m \u001b[39mwrapped\u001b[39m(\u001b[39m*\u001b[39margs, \u001b[39m*\u001b[39m\u001b[39m*\u001b[39mkwargs):\n\u001b[1;32m     35\u001b[0m     \u001b[39mtry\u001b[39;00m:\n\u001b[1;32m     36\u001b[0m         \u001b[39m# See https://github.com/pytorch/pytorch/issues/75462\u001b[39;00m\n\u001b[0;32m---> 37\u001b[0m         \u001b[39mif\u001b[39;00m has_torch_function(args):\n\u001b[1;32m     38\u001b[0m             \u001b[39mreturn\u001b[39;00m handle_torch_function(wrapped, args, \u001b[39m*\u001b[39margs, \u001b[39m*\u001b[39m\u001b[39m*\u001b[39mkwargs)\n\u001b[1;32m     39\u001b[0m         \u001b[39mreturn\u001b[39;00m f(\u001b[39m*\u001b[39margs, \u001b[39m*\u001b[39m\u001b[39m*\u001b[39mkwargs)\n",
            "\u001b[0;31mKeyboardInterrupt\u001b[0m: "
          ]
        }
      ],
      "source": [
        "import os\n",
        "print(os.getcwd())\n",
        "generator = torch.Generator(\"cuda\").manual_seed(1234)\n",
        "prompt = \"./Images/Guide_Images/coinstack.jpg, straight view of a tiny red house next to a stack of golden coins, 4k, hd\"\n",
        "image = pipe(prompt, num_inference_steps=50, guidance_scale = 20, generator=generator, height=400 , width=720 ).images[0]\n",
        "\n",
        "image.save(\"./Images/Test_Images/Housing_market.png\")"
      ]
    },
    {
      "cell_type": "code",
      "execution_count": null,
      "metadata": {
        "id": "ksuqjcSyeArJ"
      },
      "outputs": [],
      "source": [
        "generator = torch.Generator(\"cuda\").manual_seed(1234)\n",
        "prompt = \"/content/forest.jpg, a forest in Sweden by a lake, autumn, sun is shining, 4k, hd\"\n",
        "image = pipe(prompt, num_inference_steps=50, guidance_scale = 20, generator=generator, height=400 , width=720 ).images[0]\n",
        "\n",
        "image.save(\"/content/Test_images/forest.png\")"
      ]
    },
    {
      "cell_type": "code",
      "execution_count": null,
      "metadata": {
        "id": "qmfC-Qz0ecy0"
      },
      "outputs": [],
      "source": [
        "generator = torch.Generator(\"cuda\").manual_seed(12345)\n",
        "prompt = \"/content/boxes.jpg, cardboard boxes and plants, on a table, in an office, folders, sideview, 4k, hd\"\n",
        "image = pipe(prompt, num_inference_steps=50, guidance_scale = 20, generator=generator, height=400 , width=720 ).images[0]\n",
        "\n",
        "image.save(\"/content/Test_images/bankruptcy.png\")"
      ]
    },
    {
      "cell_type": "markdown",
      "metadata": {
        "id": "jchvCG0GoWs1"
      },
      "source": [
        "# Doing the thing\n",
        "REMEMBER TO CHANGE THE NUMBER OF PIXELS WHEN DOING FOR REAL"
      ]
    },
    {
      "cell_type": "code",
      "execution_count": 13,
      "metadata": {
        "id": "xV0AcYS7oKwp"
      },
      "outputs": [
        {
          "name": "stdout",
          "output_type": "stream",
          "text": [
            "1000\n",
            "   Unnamed: 0      prompt  guidance  inf_steps  xtra_prompt  guide_image_bin  \\\n",
            "0           1    houseing       4.0         71            1                0   \n",
            "1           2     weather       3.4        166            1                0   \n",
            "2           3     weather      11.7         58            0                1   \n",
            "3           4  bankruptcy       6.6        179            1                0   \n",
            "4           5     weather       1.6         64            0                0   \n",
            "\n",
            "    image  \n",
            "0    none  \n",
            "1    none  \n",
            "2  forest  \n",
            "3    none  \n",
            "4    none  \n"
          ]
        }
      ],
      "source": [
        "import pandas as pd\n",
        "project_root = \"./Images\"\n",
        "df = pd.read_csv(r'./image_data.csv')\n",
        "print(len(df))\n",
        "print(df.head())"
      ]
    },
    {
      "cell_type": "code",
      "execution_count": 14,
      "metadata": {
        "id": "r8BHzpXBlx_G"
      },
      "outputs": [
        {
          "ename": "IndentationError",
          "evalue": "unexpected indent (1020673314.py, line 2)",
          "output_type": "error",
          "traceback": [
            "\u001b[0;36m  Cell \u001b[0;32mIn [14], line 2\u001b[0;36m\u001b[0m\n\u001b[0;31m    else: extra_words = \" \"\u001b[0m\n\u001b[0m    ^\u001b[0m\n\u001b[0;31mIndentationError\u001b[0m\u001b[0;31m:\u001b[0m unexpected indent\n"
          ]
        }
      ],
      "source": [
        "def extra(xtra_prompt): \n",
        "  content_words = \", cinematic, colorful background, high detail, highly detailed, hyper realistic, intricate, intricate sharp details, smooth, studio lighting\"\n",
        "  else: \n",
        "    extra_words = \" \"\n",
        "  return extra_words\n",
        "\n",
        "def guide(guide_image_bin, image):\n",
        "  if guide_image_bin == 1 and image == \"coinstack\": \n",
        "    guide_image = f\"{project_root}/Guide_Images/coinstack.jpg,\"\n",
        "  elif guide_image_bin == 1 and image == \"boxes\": \n",
        "    guide_image = f\"{project_root}/Guide_Images/boxes.jpg,\"\n",
        "  elif guide_image_bin == 1 and image == \"forest\": \n",
        "    guide_image = f\"{project_root}/Guide_Images/forest.jpg,\"\n",
        "  else: guide_image = \" \"\n",
        "  return guide_image\n",
        "\n",
        "def main(prompt):\n",
        "  if prompt == \"houseing\": main_prompt =  \" straight view of a tiny red house next to a stack of golden coins, 4k, hd\"\n",
        "  elif prompt == \"weather\": main_prompt =  \" a forest in Sweden by a lake, autumn, sun is shining, 4k, hd\"\n",
        "  elif prompt == \"bankruptcy\": main_prompt =  \" cardboard boxes and plants, on a table, in an office, folders, sideview, 4k, hd\"\n",
        "  else: main_prompt = \" \"\n",
        "  return main_prompt"
      ]
    },
    {
      "cell_type": "code",
      "execution_count": null,
      "metadata": {
        "id": "voGoZGP2_sRU"
      },
      "outputs": [],
      "source": [
        "# Loop för att spara flera bilder i mappen Test_images\n",
        "\n",
        "createFolder('./Images/Main_Images/')\n",
        "\n",
        "num_images = 10\n",
        "\n",
        "generator = torch.Generator(\"cuda\").manual_seed(1234)\n",
        "\n",
        "for i in range(num_images):\n",
        "  prompt = df[\"prompt\"][i]\n",
        "  image = df[\"image\"][i]\n",
        "  guide_image_bin = df[\"guide_image_bin\"][i]\n",
        "  xtra_prompt = df[\"xtra_prompt\"][i]\n",
        "  images = pipe(prompt=(guide(guide_image_bin, image)+main(prompt)+extra(xtra_prompt)), num_inference_steps=df[\"inf_steps\"][i], guidance_scale = df[\"guidance\"][i], height=400 , width=720, generator=generator ).images\n",
        "  images[0].save(f'./Images/Main_Images/{i}.png')"
      ]
    },
    {
      "cell_type": "code",
      "execution_count": null,
      "metadata": {
        "id": "UaAfNCoBe9sp"
      },
      "outputs": [],
      "source": [
        "!zip -r /content/Images.zip /content/Images"
      ]
    }
  ],
  "metadata": {
    "accelerator": "GPU",
    "colab": {
      "include_colab_link": true,
      "machine_shape": "hm",
      "private_outputs": true,
      "provenance": []
    },
    "gpuClass": "standard",
    "kernelspec": {
      "display_name": "Python 3.10.6 ('diffusion-jupyter')",
      "language": "python",
      "name": "python3"
    },
    "language_info": {
      "codemirror_mode": {
        "name": "ipython",
        "version": 3
      },
      "file_extension": ".py",
      "mimetype": "text/x-python",
      "name": "python",
      "nbconvert_exporter": "python",
      "pygments_lexer": "ipython3",
      "version": "3.10.6"
    },
    "vscode": {
      "interpreter": {
        "hash": "9904bc9c0fe96b732ade1c75bb48c35357f0b2f3b0d99e8164bd4f164a7615d6"
      }
    }
  },
  "nbformat": 4,
  "nbformat_minor": 0
}
