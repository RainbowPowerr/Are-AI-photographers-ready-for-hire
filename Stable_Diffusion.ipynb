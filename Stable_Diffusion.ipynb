{
  "cells": [
    {
      "cell_type": "markdown",
      "metadata": {
        "id": "view-in-github",
        "colab_type": "text"
      },
      "source": [
        "<a href=\"https://colab.research.google.com/github/RainbowPowerr/ML-thesis/blob/main/Stable_Diffusion.ipynb\" target=\"_parent\"><img src=\"https://colab.research.google.com/assets/colab-badge.svg\" alt=\"Open In Colab\"/></a>"
      ]
    },
    {
      "cell_type": "markdown",
      "source": [
        "**Stable diffusion**\n",
        "\n",
        "Set up:"
      ],
      "metadata": {
        "id": "WKexiuNrnFlJ"
      }
    },
    {
      "cell_type": "code",
      "execution_count": null,
      "metadata": {
        "id": "aIrgth7sqFML"
      },
      "outputs": [],
      "source": [
        "!nvidia-smi\n",
        "\n",
        "!pip install diffusers==0.4.0\n",
        "!pip install transformers scipy ftfy\n",
        "!pip install \"ipywidgets>=7,<8\"\n",
        "\n",
        "from google.colab import output\n",
        "output.enable_custom_widget_manager()\n",
        "\n",
        "from huggingface_hub import notebook_login\n",
        "\n",
        "notebook_login()"
      ]
    },
    {
      "cell_type": "markdown",
      "source": [
        "Download model and prep grid"
      ],
      "metadata": {
        "id": "-4MUzooRnW2S"
      }
    },
    {
      "cell_type": "code",
      "execution_count": null,
      "metadata": {
        "id": "xSKWBKFPArKS"
      },
      "outputs": [],
      "source": [
        "from diffusers import StableDiffusionPipeline\n",
        "import torch\n",
        "\n",
        "model_id = \"runwayml/stable-diffusion-v1-5\"\n",
        "pipe = StableDiffusionPipeline.from_pretrained(model_id, torch_dtype=torch.float16, revision=\"fp16\")\n",
        "pipe = pipe.to(\"cuda\")\n",
        "\n",
        "from PIL import Image\n",
        "\n",
        "def image_grid(imgs, rows, cols):\n",
        "    assert len(imgs) == rows*cols\n",
        "\n",
        "    w, h = imgs[0].size\n",
        "    grid = Image.new('RGB', size=(cols*w, rows*h))\n",
        "    grid_w, grid_h = grid.size\n",
        "    \n",
        "    for i, img in enumerate(imgs):\n",
        "        grid.paste(img, box=(i%cols*w, i//cols*h))\n",
        "    return grid\n",
        "all_images = []\n",
        "\n",
        "import os\n",
        "\n",
        "def createFolder(directory):\n",
        "    try:\n",
        "        if not os.path.exists(directory):\n",
        "            os.makedirs(directory)\n",
        "    except OSError:\n",
        "        print ('Error: Creating directory. ' +  directory)"
      ]
    },
    {
      "cell_type": "markdown",
      "source": [
        "Generating single images (with and without grid)"
      ],
      "metadata": {
        "id": "xHaL8rNSH-95"
      }
    },
    {
      "cell_type": "code",
      "source": [
        "def image_grid(imgs, rows, cols):\n",
        "    assert len(imgs) == rows*cols\n",
        "\n",
        "    w, h = imgs[0].size\n",
        "    grid = Image.new('RGB', size=(cols*w, rows*h))\n",
        "    grid_w, grid_h = grid.size\n",
        "    \n",
        "    for i, img in enumerate(imgs):\n",
        "        grid.paste(img, box=(i%cols*w, i//cols*h))\n",
        "    return grid\n",
        "all_images = []\n",
        "\n",
        "num_cols = 3\n",
        "num_rows = 4\n",
        "\n",
        "prompt = [\"/content/forest.jpg, a forest in Sweden by a lake, autumn, 4k, hd\"] * num_cols\n",
        "generator = torch.Generator(\"cuda\").manual_seed(984799)\n",
        "\n",
        "\n",
        "for i in range(num_rows):\n",
        "  images = pipe(prompt, num_inference_steps=50, guidance_scale = 8, generator=generator).images\n",
        "  all_images.extend(images)\n",
        "\n",
        "grid = image_grid(all_images, rows=num_rows, cols=num_cols)\n",
        "grid\n"
      ],
      "metadata": {
        "id": "TZdk190YweSt"
      },
      "execution_count": null,
      "outputs": []
    },
    {
      "cell_type": "code",
      "source": [
        "generator = torch.Generator(\"cuda\").manual_seed(1234)\n",
        "prompt = \"/content/coinstack.jpg, straight view of a tiny red house next to a stack of golden coins, 4k, hd\"\n",
        "image = pipe(prompt, num_inference_steps=50, guidance_scale = 20, generator=generator, height=400 , width=720 ).images[0]\n",
        "\n",
        "image.save(\"/content/Test_images/Housing_market.png\")"
      ],
      "metadata": {
        "id": "r-FG0eNuQp4n"
      },
      "execution_count": null,
      "outputs": []
    },
    {
      "cell_type": "code",
      "source": [
        "generator = torch.Generator(\"cuda\").manual_seed(1234)\n",
        "prompt = \"/content/forest.jpg, a forest in Sweden by a lake, autumn, sun is shining, 4k, hd\"\n",
        "image = pipe(prompt, num_inference_steps=50, guidance_scale = 20, generator=generator, height=400 , width=720 ).images[0]\n",
        "\n",
        "image.save(\"/content/Test_images/forest.png\")"
      ],
      "metadata": {
        "id": "ksuqjcSyeArJ"
      },
      "execution_count": null,
      "outputs": []
    },
    {
      "cell_type": "code",
      "source": [
        "generator = torch.Generator(\"cuda\").manual_seed(12345)\n",
        "prompt = \"/content/boxes.jpg, cardboard boxes and plants, on a table, in an office, folders, sideview, 4k, hd\"\n",
        "image = pipe(prompt, num_inference_steps=50, guidance_scale = 20, generator=generator, height=400 , width=720 ).images[0]\n",
        "\n",
        "image.save(\"/content/Test_images/bankruptcy.png\")"
      ],
      "metadata": {
        "id": "qmfC-Qz0ecy0"
      },
      "execution_count": null,
      "outputs": []
    },
    {
      "cell_type": "markdown",
      "source": [
        "# Doing the thing\n",
        "REMEMBER TO CHANGE THE NUMBER OF PIXELS WHEN DOING FOR REAL"
      ],
      "metadata": {
        "id": "jchvCG0GoWs1"
      }
    },
    {
      "cell_type": "code",
      "source": [
        "import pandas as pd\n",
        "\n",
        "df = pd.read_csv(r'/content/test_data.txt')\n",
        "\n",
        "print(df.head())"
      ],
      "metadata": {
        "id": "xV0AcYS7oKwp"
      },
      "execution_count": null,
      "outputs": []
    },
    {
      "cell_type": "code",
      "source": [
        "def extra(xtra_prompt): \n",
        "  if xtra_prompt == 1: extra_words = \", cinematic, colorful background, conceptart, high detail, highly detailed, hyper realistic, intricate, intricate sharp details,octane render, smooth, studio lighting, trending on artstation\"\n",
        "  else: extra_words = \" \"\n",
        "  return extra_words\n",
        "\n",
        "def guide(guide_image_bin, image):\n",
        "  if guide_image_bin == 1 and image == \"coinstack\": guide_image = \"/content/coinstack.jpg,\"\n",
        "  elif guide_image_bin == 1 and image == \"boxes\": guide_image = \"/content/boxes.jpg,\"\n",
        "  elif guide_image_bin == 1 and image == \"forest\": guide_image = \"/content/forest.jpg,\"\n",
        "  else: guide_image = \" \"\n",
        "  return guide_image\n",
        "\n",
        "def main(prompt):\n",
        "  if prompt == \"houseing\": main_prompt =  \" straight view of a tiny red house next to a stack of golden coins, 4k, hd\"\n",
        "  elif prompt == \"weather\": main_prompt =  \" a forest in Sweden by a lake, autumn, sun is shining, 4k, hd\"\n",
        "  elif prompt == \"bankruptcy\": main_prompt =  \" cardboard boxes and plants, on a table, in an office, folders, sideview, 4k, hd\"\n",
        "  else: main_prompt = \" \"\n",
        "  return main_prompt"
      ],
      "metadata": {
        "id": "r8BHzpXBlx_G"
      },
      "execution_count": null,
      "outputs": []
    },
    {
      "cell_type": "code",
      "source": [
        "# Loop för att spara flera bilder i mappen Test_images\n",
        "\n",
        "createFolder('./Images/')\n",
        "\n",
        "num_images = 10\n",
        "\n",
        "generator = torch.Generator(\"cuda\").manual_seed(1234)\n",
        "\n",
        "for i in range(num_images):\n",
        "  prompt = df[\"prompt\"][i]\n",
        "  image = df[\"image\"][i]\n",
        "  guide_image_bin = df[\"guide_image_bin\"][i]\n",
        "  xtra_prompt = df[\"xtra_prompt\"][i]\n",
        "  images = pipe(prompt=(guide(guide_image_bin, image)+main(prompt)+extra(xtra_prompt)), num_inference_steps=df[\"inf_steps\"][i], guidance_scale = df[\"guidance\"][i], height=400 , width=720, generator=generator ).images\n",
        "  images[0].save(f'/content/Images/{i}.png')"
      ],
      "metadata": {
        "id": "voGoZGP2_sRU"
      },
      "execution_count": null,
      "outputs": []
    },
    {
      "cell_type": "code",
      "source": [
        "!zip -r /content/Images.zip /content/Images"
      ],
      "metadata": {
        "id": "UaAfNCoBe9sp"
      },
      "execution_count": null,
      "outputs": []
    }
  ],
  "metadata": {
    "accelerator": "GPU",
    "colab": {
      "machine_shape": "hm",
      "provenance": [],
      "private_outputs": true,
      "include_colab_link": true
    },
    "gpuClass": "standard",
    "kernelspec": {
      "display_name": "Python 3",
      "name": "python3"
    },
    "language_info": {
      "name": "python"
    }
  },
  "nbformat": 4,
  "nbformat_minor": 0
}