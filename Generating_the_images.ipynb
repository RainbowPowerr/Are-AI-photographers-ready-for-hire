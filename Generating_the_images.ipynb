{
  "cells": [
    {
      "cell_type": "markdown",
      "metadata": {
        "id": "view-in-github",
        "colab_type": "text"
      },
      "source": [
        "<a href=\"https://colab.research.google.com/github/RainbowPowerr/Are-AI-photographers-ready-for-hire/blob/main/Generating_the_images.ipynb\" target=\"_parent\"><img src=\"https://colab.research.google.com/assets/colab-badge.svg\" alt=\"Open In Colab\"/></a>"
      ]
    },
    {
      "cell_type": "markdown",
      "metadata": {
        "id": "WKexiuNrnFlJ"
      },
      "source": [
        "**Stable diffusion**\n",
        "\n",
        "Set up:"
      ]
    },
    {
      "cell_type": "code",
      "execution_count": null,
      "metadata": {
        "id": "aIrgth7sqFML"
      },
      "outputs": [],
      "source": [
        "!nvidia-smi\n",
        "\n",
        "!pip install diffusers==0.8.0\n",
        "!pip install transformers scipy ftfy\n",
        "!pip install \"ipywidgets>=7,<8\"\n",
        "\n",
        "from google.colab import output\n",
        "output.enable_custom_widget_manager()\n",
        "\n",
        "from huggingface_hub import notebook_login\n",
        "\n",
        "notebook_login()"
      ]
    },
    {
      "cell_type": "markdown",
      "metadata": {
        "id": "-4MUzooRnW2S"
      },
      "source": [
        "Download model and prep"
      ]
    },
    {
      "cell_type": "code",
      "execution_count": null,
      "metadata": {
        "id": "xSKWBKFPArKS"
      },
      "outputs": [],
      "source": [
        "from diffusers import StableDiffusionPipeline\n",
        "import torch\n",
        "\n",
        "model_id = \"runwayml/stable-diffusion-v1-5\"\n",
        "pipe = StableDiffusionPipeline.from_pretrained(model_id, torch_dtype=torch.float16, revision=\"fp16\")\n",
        "pipe = pipe.to(\"cuda\")\n",
        "\n",
        "from PIL import Image\n",
        "\n",
        "import os\n",
        "\n",
        "def createFolder(directory):\n",
        "    try:\n",
        "        if not os.path.exists(directory):\n",
        "            os.makedirs(directory)\n",
        "    except OSError:\n",
        "        print ('Error: Creating directory. ' +  directory)"
      ]
    },
    {
      "cell_type": "markdown",
      "metadata": {
        "id": "jchvCG0GoWs1"
      },
      "source": [
        "# Generate the images \n",
        "\n"
      ]
    },
    {
      "cell_type": "code",
      "execution_count": null,
      "metadata": {
        "id": "xV0AcYS7oKwp"
      },
      "outputs": [],
      "source": [
        "import pandas as pd\n",
        "\n",
        "df = pd.read_csv(r'/content/image_data_with_index.csv')\n",
        "\n",
        "print(df.head())"
      ]
    },
    {
      "cell_type": "code",
      "execution_count": null,
      "metadata": {
        "id": "r8BHzpXBlx_G"
      },
      "outputs": [],
      "source": [
        "def extra(xtra_prompt): \n",
        "  if xtra_prompt == 1: extra_words = \", cinematic, colorful background, high detail, highly detailed, hyper realistic, intricate, intricate sharp details, smooth, studio lighting\"\n",
        "  else: extra_words = \" \"\n",
        "  return extra_words\n",
        "\n",
        "\n",
        "def main(prompt):\n",
        "  if prompt == \"houseing\": main_prompt =  \" straight view of a tiny red house next to a stack of golden coins, 4k, hd\"\n",
        "  elif prompt == \"weather\": main_prompt =  \" a forest in Sweden by a lake, autumn, sun is shining, 4k, hd\"\n",
        "  elif prompt == \"bankruptcy\": main_prompt =  \" cardboard boxes and plants, on a table, in an office, folders, sideview, 4k, hd\"\n",
        "  else: main_prompt = \" \"\n",
        "  return main_prompt"
      ]
    },
    {
      "cell_type": "code",
      "execution_count": null,
      "metadata": {
        "id": "voGoZGP2_sRU"
      },
      "outputs": [],
      "source": [
        "createFolder('./Images/Main_Images/')\n",
        "\n",
        "num_images = len(df)\n",
        "\n",
        "for i in range(num_images):\n",
        "  generator = torch.Generator(\"cuda\").manual_seed(6596 + int(df[\"index\"][i]))\n",
        "  with open(\"log.txt\", \"w\") as f:\n",
        "    f.write(f\"Iteration {i}\")\n",
        "  prompt = df[\"prompt\"][i]\n",
        "  xtra_prompt = df[\"xtra_prompt\"][i]\n",
        "  images = pipe(prompt=(main(prompt)+extra(xtra_prompt)), num_inference_steps=df[\"inf_steps\"][i], guidance_scale = df[\"guidance\"][i], height=400 , width=720, generator=generator ).images\n",
        "  images[0].save(f'./Images/Main_Images/00{df[\"index\"][i]}.png')"
      ]
    },
    {
      "cell_type": "markdown",
      "source": [
        "Create a zip-file to download the images"
      ],
      "metadata": {
        "id": "LoheJFtB_UEr"
      }
    },
    {
      "cell_type": "code",
      "execution_count": null,
      "metadata": {
        "id": "UaAfNCoBe9sp"
      },
      "outputs": [],
      "source": [
        "!zip -r /content/Images.zip /content/Images"
      ]
    }
  ],
  "metadata": {
    "accelerator": "GPU",
    "colab": {
      "machine_shape": "hm",
      "private_outputs": true,
      "provenance": [],
      "include_colab_link": true
    },
    "gpuClass": "standard",
    "kernelspec": {
      "display_name": "Python 3.10.6 ('diffusion-jupyter')",
      "language": "python",
      "name": "python3"
    },
    "language_info": {
      "codemirror_mode": {
        "name": "ipython",
        "version": 3
      },
      "file_extension": ".py",
      "mimetype": "text/x-python",
      "name": "python",
      "nbconvert_exporter": "python",
      "pygments_lexer": "ipython3",
      "version": "3.10.6"
    },
    "vscode": {
      "interpreter": {
        "hash": "9904bc9c0fe96b732ade1c75bb48c35357f0b2f3b0d99e8164bd4f164a7615d6"
      }
    }
  },
  "nbformat": 4,
  "nbformat_minor": 0
}